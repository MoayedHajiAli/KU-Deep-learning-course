{
 "cells": [
  {
   "cell_type": "markdown",
   "metadata": {},
   "source": [
    "# Packages"
   ]
  },
  {
   "cell_type": "code",
   "execution_count": 6,
   "metadata": {},
   "outputs": [],
   "source": [
    "using Pkg\n",
    "#haskey(Pkg.installed(), \"Languages\") || Pkg.add(\"Languages\")\n",
    "using Knet, Plots, Statistics, LinearAlgebra, Random\n",
    "using Languages"
   ]
  },
  {
   "cell_type": "markdown",
   "metadata": {},
   "source": [
    "# Constants"
   ]
  },
  {
   "cell_type": "code",
   "execution_count": 131,
   "metadata": {},
   "outputs": [],
   "source": [
    "#=Citation: Publications Using the Dataset. Andrew L. Maas, Raymond E. Daly, Peter T. Pham, Dan Huang, Andrew Y. Ng, and Christopher Potts. (2011). Learning Word Vectors for Sentiment Analysis. The 49th Annual Meeting of the Association for Computational Linguistics (ACL 2011).=#\n",
    "DATA_URL = \"https://ai.stanford.edu/~amaas/data/sentiment/aclImdb_v1.tar.gz\"\n",
    "FILE_NAME = \"aclImdb\"\n",
    "DATA_DIR = \"./Data\"\n",
    "NGRAM = 5\n",
    "nothing"
   ]
  },
  {
   "cell_type": "markdown",
   "metadata": {},
   "source": [
    "# Download and preprocess data"
   ]
  },
  {
   "cell_type": "code",
   "execution_count": 127,
   "metadata": {},
   "outputs": [
    {
     "name": "stdout",
     "output_type": "stream",
     "text": [
      "Finsied extracting and cleaning 25000 training reviews and 25000 testing reviews\n"
     ]
    }
   ],
   "source": [
    "#define a struct for a review that has a text (list of words)and a label\n",
    "struct review txt; label;end\n",
    "\n",
    "#download review from DARA_URL\n",
    "function _download_reviews()\n",
    "    if !isdir(DATA_DIR)\n",
    "        mkdir(DATA_DIR)\n",
    "    end\n",
    "    url = DATA_URL\n",
    "    path = \"$DATA_DIR/$FILE_NAME\"\n",
    "    if !isdir(path)\n",
    "        println(\"Downloading the data from the internet...\")\n",
    "        file = \"aclImdb_v1.tar\"\n",
    "        #file = download(url, path)\n",
    "        println(\"Extracting the data...\")\n",
    "        run(`tar -xvf $(joinpath(DATA_DIR, file)) -C ./DATA_DIR/ -C`)\n",
    "        println(\"Finished.\")\n",
    "        rm(file)\n",
    "    end\n",
    "    return path\n",
    "end\n",
    "\n",
    "#creat a dictionary of stopwords\n",
    "_stopwords = Dict(x => true for x in stopwords(Languages.English()))\n",
    "\n",
    "#clean a review by 1-removing punctionations and extra spaces, split into an array or words \n",
    "#removing stopwords, and covert ot lowercase. Then retern a list of words\n",
    "function clean_text(txt)\n",
    "    txt = replace(txt, r\"[^a-zA-Z\\s-]\" => \" \")\n",
    "    txt = replace(txt, r\"--\" => \" \")\n",
    "    txt = replace(txt, r\"\\s+\" => \" \")\n",
    "    lst = split(txt)\n",
    "    lst = map(lowercase, lst)\n",
    "    #&& get.(_stopwords) != true \n",
    "    lst = lst[[(length(i) > 2 && get(_stopwords, i, false) != true) for i in lst]]\n",
    "    return lst\n",
    "end\n",
    "\n",
    "#extract review from the files insided a specific directory, clean the data and return a list of reviews struct\n",
    "function _extract_reviews(path, label = 0)\n",
    "    content = []\n",
    "    for f in readdir(path)\n",
    "        open(string(path,\"/\",f)) do re\n",
    "            txt = read(re,String)\n",
    "            #println(txt)\n",
    "            push!(content, review(clean_text(txt), label))\n",
    "        end\n",
    "    end\n",
    "    return content\n",
    "end\n"
   ]
  },
  {
   "cell_type": "markdown",
   "metadata": {},
   "source": [
    "# Define an ngram model"
   ]
  },
  {
   "cell_type": "code",
   "execution_count": 133,
   "metadata": {},
   "outputs": [
    {
     "data": {
      "text/plain": [
       "25000-element Array{review,1}:\n",
       " review([\"bromwell\", \"cartoon\", \"comedy\", \"ran\", \"time\", \"programs\", \"school\", \"life\", \"teachers\", \"teaching\"  …  \"classic_line_line_inspector_inspector_sack_sack_teachers_teachers_student\", \"line_inspector_inspector_sack_sack_teachers_teachers_student_student_welcome\", \"inspector_sack_sack_teachers_teachers_student_student_welcome_welcome_bromwell\", \"sack_teachers_teachers_student_student_welcome_welcome_bromwell_bromwell_expect\", \"teachers_student_student_welcome_welcome_bromwell_bromwell_expect_expect_adults\", \"student_welcome_welcome_bromwell_bromwell_expect_expect_adults_adults_age\", \"welcome_bromwell_bromwell_expect_expect_adults_adults_age_age_bromwell\", \"bromwell_expect_expect_adults_adults_age_age_bromwell_bromwell_fetched\", \"expect_adults_adults_age_age_bromwell_bromwell_fetched_fetched_pity\", \"adults_age_age_bromwell_bromwell_fetched_fetched_pity_pity_isn\"], 1)                                                                                                                                                                                                                           \n",
       " review([\"homelessness\", \"houselessness\", \"george\", \"carlin\", \"stated\", \"issue\", \"plan\", \"help\", \"street\", \"considered\"  …  \"bet_rich_rich_people_people_don_don_money_money_maybe\", \"rich_people_people_don_don_money_money_maybe_maybe_homeless\", \"people_don_don_money_money_maybe_maybe_homeless_homeless_instead\", \"don_money_money_maybe_maybe_homeless_homeless_instead_instead_using\", \"money_maybe_maybe_homeless_homeless_instead_instead_using_using_monopoly\", \"maybe_homeless_homeless_instead_instead_using_using_monopoly_monopoly_money\", \"homeless_instead_instead_using_using_monopoly_monopoly_money_money_maybe\", \"instead_using_using_monopoly_monopoly_money_money_maybe_maybe_film\", \"using_monopoly_monopoly_money_money_maybe_maybe_film_film_inspire\", \"monopoly_money_money_maybe_maybe_film_film_inspire_inspire_help\"], 1)                                                                                                                                                                                                                                                                                        \n",
       " review([\"brilliant\", \"over-acting\", \"lesley\", \"ann\", \"warren\", \"dramatic\", \"hobo\", \"lady\", \"seen\", \"love\"  …  \"scene_homeless_homeless_invade_invade_demolition_demolition_site_site_all-time\", \"homeless_invade_invade_demolition_demolition_site_site_all-time_all-time_classics\", \"invade_demolition_demolition_site_site_all-time_all-time_classics_classics_look\", \"demolition_site_site_all-time_all-time_classics_classics_look_look_legs\", \"site_all-time_all-time_classics_classics_look_look_legs_legs_scene\", \"all-time_classics_classics_look_look_legs_legs_scene_scene_diggers\", \"classics_look_look_legs_legs_scene_scene_diggers_diggers_fighting\", \"look_legs_legs_scene_scene_diggers_diggers_fighting_fighting_bleeds\", \"legs_scene_scene_diggers_diggers_fighting_fighting_bleeds_bleeds_movie\", \"scene_diggers_diggers_fighting_fighting_bleeds_bleeds_movie_movie_time\"], 1)                                                                                                                                                                                                                                            \n",
       " review([\"easily\", \"underrated\", \"film\", \"inn\", \"brooks\", \"cannon\", \"flawed\", \"realistic\", \"view\", \"homelessness\"  …  \"truly_impressive_impressive_fisher_fisher_king_king_crap_crap_complaint\", \"impressive_fisher_fisher_king_king_crap_crap_complaint_complaint_brooks\", \"fisher_king_king_crap_crap_complaint_complaint_brooks_brooks_cast\", \"king_crap_crap_complaint_complaint_brooks_brooks_cast_cast_else\", \"crap_complaint_complaint_brooks_brooks_cast_cast_else_else_lead\", \"complaint_brooks_brooks_cast_cast_else_else_lead_lead_love\", \"brooks_cast_cast_else_else_lead_lead_love_love_mel\", \"cast_else_else_lead_lead_love_love_mel_mel_director\", \"else_lead_lead_love_love_mel_mel_director_director_writer\", \"lead_love_love_mel_mel_director_director_writer_writer_lead\"], 1)                                                                                                                                                                                                                                                                                                                                              \n",
       " review([\"typical\", \"mel\", \"brooks\", \"film\", \"slapstick\", \"movies\", \"actually\", \"plot\", \"followable\", \"leslie\"  …  \"rent_acting_acting_overall_overall_brooks_brooks_job_job_characteristic\", \"acting_overall_overall_brooks_brooks_job_job_characteristic_characteristic_speaking\", \"overall_brooks_brooks_job_job_characteristic_characteristic_speaking_speaking_directly\", \"brooks_job_job_characteristic_characteristic_speaking_speaking_directly_directly_audience\", \"job_characteristic_characteristic_speaking_speaking_directly_directly_audience_audience_warren\", \"characteristic_speaking_speaking_directly_directly_audience_audience_warren_warren_actor\", \"speaking_directly_directly_audience_audience_warren_warren_actor_actor_movie\", \"directly_audience_audience_warren_warren_actor_actor_movie_movie_fume\", \"audience_warren_warren_actor_actor_movie_movie_fume_fume_sailor\", \"warren_actor_actor_movie_movie_fume_fume_sailor_sailor_played\"], 1)                                                                                                                                                                     \n",
       " review([\"isn\", \"comedic\", \"robin\", \"williams\", \"quirky\", \"insane\", \"robin\", \"williams\", \"recent\", \"thriller\"  …  \"words_real_real_able_able_subscribe_subscribe_premise_premise_story\", \"real_able_able_subscribe_subscribe_premise_premise_story_story_worth\", \"able_subscribe_subscribe_premise_premise_story_story_worth_worth_watch\", \"subscribe_premise_premise_story_story_worth_worth_watch_watch_definitely\", \"premise_story_story_worth_worth_watch_watch_definitely_definitely_friday\", \"story_worth_worth_watch_watch_definitely_definitely_friday_friday_saturday\", \"worth_watch_watch_definitely_definitely_friday_friday_saturday_saturday_night\", \"watch_definitely_definitely_friday_friday_saturday_saturday_night_night_fare\", \"definitely_friday_friday_saturday_saturday_night_night_fare_fare_rates\", \"friday_saturday_saturday_night_night_fare_fare_rates_rates_fiend\"], 1)                                                                                                                                                                                                                                            \n",
       " review([\"art\", \"successfully\", \"slow\", \"paced\", \"thriller\", \"story\", \"unfolds\", \"nice\", \"volumes\", \"don\"  …  \"lights_achieve_achieve_desired_desired_affects_affects_suspense_suspense_unexpectedness\", \"achieve_desired_desired_affects_affects_suspense_suspense_unexpectedness_unexpectedness_nice\", \"desired_affects_affects_suspense_suspense_unexpectedness_unexpectedness_nice_nice_time\", \"affects_suspense_suspense_unexpectedness_unexpectedness_nice_nice_time_time_watch\", \"suspense_unexpectedness_unexpectedness_nice_nice_time_time_watch_watch_looking\", \"unexpectedness_nice_nice_time_time_watch_watch_looking_looking_lay\", \"nice_time_time_watch_watch_looking_looking_lay_lay_hear\", \"time_watch_watch_looking_looking_lay_lay_hear_hear_thrilling\", \"watch_looking_looking_lay_lay_hear_hear_thrilling_thrilling_short\", \"looking_lay_lay_hear_hear_thrilling_thrilling_short_short_story\"], 1)                                                                                                                                                                                                                         \n",
       " review([\"critically\", \"acclaimed\", \"psychological\", \"thriller\", \"based\", \"true\", \"events\", \"gabriel\", \"robin\", \"williams\"  …  \"deserve_gratitude_gratitude_flight_flight_attendants_attendants_night_night_listener\", \"gratitude_flight_flight_attendants_attendants_night_night_listener_listener_patrick\", \"flight_attendants_attendants_night_night_listener_listener_patrick_patrick_stettner\", \"attendants_night_night_listener_listener_patrick_patrick_stettner_stettner_robin\", \"night_listener_listener_patrick_patrick_stettner_stettner_robin_robin_williams\", \"listener_patrick_patrick_stettner_stettner_robin_robin_williams_williams_toni\", \"patrick_stettner_stettner_robin_robin_williams_williams_toni_toni_collette\", \"stettner_robin_robin_williams_williams_toni_toni_collette_collette_sandra\", \"robin_williams_williams_toni_toni_collette_collette_sandra_sandra_rory\", \"williams_toni_toni_collette_collette_sandra_sandra_rory_rory_culkin\"], 1)                                                                                                                                                                    \n",
       " review([\"night\", \"listener\", \"robin\", \"williams\", \"toni\", \"collette\", \"bobby\", \"cannavale\", \"rory\", \"culkin\"  …  \"repetitive_predictable_predictable_despite_despite_finely_finely_directed_directed_piece\", \"predictable_despite_despite_finely_finely_directed_directed_piece_piece_hoodwink\", \"despite_finely_finely_directed_directed_piece_piece_hoodwink_hoodwink_mystery\", \"finely_directed_directed_piece_piece_hoodwink_hoodwink_mystery_mystery_stettner\", \"directed_piece_piece_hoodwink_hoodwink_mystery_mystery_stettner_stettner_pays\", \"piece_hoodwink_hoodwink_mystery_mystery_stettner_stettner_pays_pays_listen\", \"hoodwink_mystery_mystery_stettner_stettner_pays_pays_listen_listen_inner\", \"mystery_stettner_stettner_pays_pays_listen_listen_inner_inner_voice\", \"stettner_pays_pays_listen_listen_inner_inner_voice_voice_careful\", \"pays_listen_listen_inner_inner_voice_voice_careful_careful_hope\"], 1)                                                                                                                                                                                                             \n",
       " review([\"robin\", \"williams\", \"god\", \"bless\", \"constantly\", \"shooting\", \"foot\", \"lately\", \"dumb\", \"comedies\"  …  \"award_incredible_incredible_woman_woman_world_world_scary_scary_dark\", \"incredible_woman_woman_world_world_scary_scary_dark_dark_film\", \"woman_world_world_scary_scary_dark_dark_film_film_highly\", \"world_scary_scary_dark_dark_film_film_highly_highly_recommend\", \"scary_dark_dark_film_film_highly_highly_recommend_recommend_prepared\", \"dark_film_film_highly_highly_recommend_recommend_prepared_prepared_unsettled\", \"film_highly_highly_recommend_recommend_prepared_prepared_unsettled_unsettled_movie\", \"highly_recommend_recommend_prepared_prepared_unsettled_unsettled_movie_movie_leaves\", \"recommend_prepared_prepared_unsettled_unsettled_movie_movie_leaves_leaves_strange\", \"prepared_unsettled_unsettled_movie_movie_leaves_leaves_strange_strange_feeling\"], 1)                                                                                                                                                                                                                                         \n",
       " review([\"read\", \"armistead\", \"maupins\", \"story\", \"human\", \"drama\", \"displayed\", \"gabriel\", \"cares\", \"loves\"  …  \"forget_believe_believe_bobby_bobby_cannavale_cannavale_jess_jess_steals\", \"believe_bobby_bobby_cannavale_cannavale_jess_jess_steals_steals_scene\", \"bobby_cannavale_cannavale_jess_jess_steals_steals_scene_scene_leading\", \"cannavale_jess_jess_steals_steals_scene_scene_leading_leading_looks\", \"jess_steals_steals_scene_scene_leading_leading_looks_looks_screen\", \"steals_scene_scene_leading_leading_looks_looks_screen_screen_presence\", \"scene_leading_leading_looks_looks_screen_screen_presence_presence_hacks\", \"leading_looks_looks_screen_screen_presence_presence_hacks_hacks_opinion\", \"looks_screen_screen_presence_presence_hacks_hacks_opinion_opinion_carry\", \"screen_presence_presence_hacks_hacks_opinion_opinion_carry_carry_movie\"], 1)                                                                                                                                                                                                                                                              \n",
       " review([\"liked\", \"film\", \"action\", \"scenes\", \"tense\", \"especially\", \"liked\", \"scene\", \"semi\", \"truck\"  …  \"scenes_filmed_filmed_time_time_lapse_lapse_photography_photography_unusual\", \"filmed_time_time_lapse_lapse_photography_photography_unusual_unusual_colors\", \"time_lapse_lapse_photography_photography_unusual_unusual_colors_colors_angles\", \"lapse_photography_photography_unusual_unusual_colors_colors_angles_angles_film\", \"photography_unusual_unusual_colors_colors_angles_angles_film_film_funny\", \"unusual_colors_colors_angles_angles_film_film_funny_funny_liked\", \"colors_angles_angles_film_film_funny_funny_liked_liked_evil\", \"angles_film_film_funny_funny_liked_liked_evil_evil_guy\", \"film_funny_funny_liked_liked_evil_evil_guy_guy_portrayed\", \"funny_liked_liked_evil_evil_guy_guy_portrayed_portrayed_film\"], 1)                                                                                                                                                                                                                                                                                              \n",
       " review([\"illnesses\", \"born\", \"mind\", \"life\", \"modern\", \"times\", \"constant\", \"vigilance\", \"accrued\", \"information\"  …  \"collette_plays_plays_donna_donna_logand_logand_sandra_sandra_anna\", \"plays_donna_donna_logand_logand_sandra_sandra_anna_anna_john\", \"donna_logand_logand_sandra_sandra_anna_anna_john_john_cullum\", \"logand_sandra_sandra_anna_anna_john_john_cullum_cullum_pop\", \"sandra_anna_anna_john_john_cullum_cullum_pop_pop_comical\", \"anna_john_john_cullum_cullum_pop_pop_comical_comical_instead\", \"john_cullum_cullum_pop_pop_comical_comical_instead_instead_prove\", \"cullum_pop_pop_comical_comical_instead_instead_prove_prove_william\", \"pop_comical_comical_instead_instead_prove_prove_william_william_serious\", \"comical_instead_instead_prove_prove_william_william_serious_serious_performances\"], 1)                                                                                                                                                                                                                                                                                                             \n",
       " ⋮                                                                                                                                                                                                                                                                                                                                                                                                                                                                                                                                                                                                                                                                                                                                                                                                                                                                                                                                                                                                                                                                                                                                             \n",
       " review([\"dog\", \"movie\", \"totally\", \"enjoyable\", \"spite\", \"poor\", \"production\", \"quality\", \"acting\", \"herein\"  …  \"horribly_gravel-like_gravel-like_production_production_style_style_actually_actually_entertaining\", \"gravel-like_production_production_style_style_actually_actually_entertaining_entertaining_help\", \"production_style_style_actually_actually_entertaining_entertaining_help_help_wondering\", \"style_actually_actually_entertaining_entertaining_help_help_wondering_wondering_planning\", \"actually_entertaining_entertaining_help_help_wondering_wondering_planning_planning_rates\", \"entertaining_help_help_wondering_wondering_planning_planning_rates_rates_scale\", \"help_wondering_wondering_planning_planning_rates_rates_scale_scale_rates\", \"wondering_planning_planning_rates_rates_scale_scale_rates_rates_movie\", \"planning_rates_rates_scale_scale_rates_rates_movie_movie_scale\", \"rates_scale_scale_rates_rates_movie_movie_scale_scale_fiend\"], 2)                                                                                                                                                         \n",
       " review([\"yez\", \"sci\", \"channel\", \"produces\", \"yeti\", \"abominable\", \"movie\", \"particularly\", \"scenes\", \"immediately\"  …  \"looking_chicken_chicken_rodent_rodent_lagomorph_lagomorph_squirrel_squirrel_rat\", \"chicken_rodent_rodent_lagomorph_lagomorph_squirrel_squirrel_rat_rat_rodent\", \"rodent_lagomorph_lagomorph_squirrel_squirrel_rat_rat_rodent_rodent_looked\", \"lagomorph_squirrel_squirrel_rat_rat_rodent_rodent_looked_looked_chicken\", \"squirrel_rat_rat_rodent_rodent_looked_looked_chicken_chicken_writers\", \"rat_rodent_rodent_looked_looked_chicken_chicken_writers_writers_missed\", \"rodent_looked_looked_chicken_chicken_writers_writers_missed_missed_real\", \"looked_chicken_chicken_writers_writers_missed_missed_real_real_chance\", \"chicken_writers_writers_missed_missed_real_real_chance_chance_note\", \"writers_missed_missed_real_real_chance_chance_note_note_tastes\"], 2)                                                                                                                                                                                                                                            \n",
       " review([\"yeti\", \"curse\", \"snow\", \"demon\", \"starts\", \"aboard\", \"plane\", \"american\", \"school\", \"teens\"  …  \"feature_honest_honest_sane_sane_person_person_looking_looking_bit\", \"honest_sane_sane_person_person_looking_looking_bit_bit_horror\", \"sane_person_person_looking_looking_bit_bit_horror_horror_themed\", \"person_looking_looking_bit_bit_horror_horror_themed_themed_fun\", \"looking_bit_bit_horror_horror_themed_themed_fun_fun_isn\", \"bit_horror_horror_themed_themed_fun_fun_isn_isn_bad\", \"horror_themed_themed_fun_fun_isn_isn_bad_bad_entertaining\", \"themed_fun_fun_isn_isn_bad_bad_entertaining_entertaining_moments\", \"fun_isn_isn_bad_bad_entertaining_entertaining_moments_moments_somewhat\", \"isn_bad_bad_entertaining_entertaining_moments_moments_somewhat_somewhat_watchable\"], 2)                                                                                                                                                                                                                                                                                                                                     \n",
       " review([\"hmmm\", \"sports\", \"team\", \"plane\", \"crash\", \"stranded\", \"snowy\", \"mountain\", \"faced\", \"difficult\"  …  \"loving_couple_couple_kisses_kisses_horrible_horrible_happened_happened_mention\", \"couple_kisses_kisses_horrible_horrible_happened_happened_mention_mention_ate\", \"kisses_horrible_horrible_happened_happened_mention_mention_ate_ate_human\", \"horrible_happened_happened_mention_mention_ate_ate_human_human_flesh\", \"happened_mention_mention_ate_ate_human_human_flesh_flesh_haven\", \"mention_ate_ate_human_human_flesh_flesh_haven_haven_brushed\", \"ate_human_human_flesh_flesh_haven_haven_brushed_brushed_teeth\", \"human_flesh_flesh_haven_haven_brushed_brushed_teeth_teeth_days\", \"flesh_haven_haven_brushed_brushed_teeth_teeth_days_days_quote\", \"haven_brushed_brushed_teeth_teeth_days_days_quote_quote_lame\"], 2)                                                                                                                                                                                                                                                                                                  \n",
       " review([\"piece\", \"garbage\", \"amc\", \"night\", \"wonder\", \"considered\", \"american\", \"movie\", \"classic\", \"awful\"  …  \"considered_american_american_movie_movie_classic_classic_awful_awful_badly\", \"american_movie_movie_classic_classic_awful_awful_badly_badly_jack\", \"movie_classic_classic_awful_awful_badly_badly_jack_jack_lemmon\", \"classic_awful_awful_badly_badly_jack_jack_lemmon_lemmon_james\", \"awful_badly_badly_jack_jack_lemmon_lemmon_james_james_stewart\", \"badly_jack_jack_lemmon_lemmon_james_james_stewart_stewart_rest\", \"jack_lemmon_lemmon_james_james_stewart_stewart_rest_rest_cast\", \"lemmon_james_james_stewart_stewart_rest_rest_cast_cast_cash\", \"james_stewart_stewart_rest_rest_cast_cast_cash_cash_consider\", \"stewart_rest_rest_cast_cast_cash_cash_consider_consider_movie\"], 2)                                                                                                                                                                                                                                                                                                                                 \n",
       " review([\"production\", \"jerry\", \"jameson\", \"direction\", \"definite\", \"improvements\", \"airport\", \"isn\", \"airport\", \"slick\"  …  \"stewardess_joseph_joseph_cotten_cotten_olivia_olivia_havilland_havilland_flirting\", \"joseph_cotten_cotten_olivia_olivia_havilland_havilland_flirting_flirting_oldsters\", \"cotten_olivia_olivia_havilland_havilland_flirting_flirting_oldsters_oldsters_personality\", \"olivia_havilland_havilland_flirting_flirting_oldsters_oldsters_personality_personality_conflicts\", \"havilland_flirting_flirting_oldsters_oldsters_personality_personality_conflicts_conflicts_excruciating\", \"flirting_oldsters_oldsters_personality_personality_conflicts_conflicts_excruciating_excruciating_military\", \"oldsters_personality_personality_conflicts_conflicts_excruciating_excruciating_military_military_detail\", \"personality_conflicts_conflicts_excruciating_excruciating_military_military_detail_detail_eventually\", \"conflicts_excruciating_excruciating_military_military_detail_detail_eventually_eventually_tear\", \"excruciating_military_military_detail_detail_eventually_eventually_tear_tear_patience\"], 2)\n",
       " review([\"capt\", \"gallagher\", \"lemmon\", \"flight\", \"attendant\", \"eve\", \"clayton\", \"vaccaro\", \"supposedly\", \"hot\"  …  \"mayberry_rfd_rfd_character_character_daughter_daughter_wins_wins_drawing\", \"rfd_character_character_daughter_daughter_wins_wins_drawing_drawing_contest\", \"character_daughter_daughter_wins_wins_drawing_drawing_contest_contest_lame\", \"daughter_wins_wins_drawing_drawing_contest_contest_lame_lame_buck\", \"wins_drawing_drawing_contest_contest_lame_lame_buck_buck_rogers\", \"drawing_contest_contest_lame_lame_buck_buck_rogers_rogers_gil\", \"contest_lame_lame_buck_buck_rogers_rogers_gil_gil_gerard\", \"lame_buck_buck_rogers_rogers_gil_gil_gerard_gerard_dynasty\", \"buck_rogers_rogers_gil_gil_gerard_gerard_dynasty_dynasty_pamela\", \"rogers_gil_gil_gerard_gerard_dynasty_dynasty_pamela_pamela_bellwood\"], 2)                                                                                                                                                                                                                                                                                                  \n",
       " review([\"towards\", \"movie\", \"technical\", \"classroom\", \"watching\", \"navy\", \"performs\", \"rescues\", \"sea\", \"liked\"  …  \"skilled_actors_actors_actresses_actresses_weak_weak_script_script_movie\", \"actors_actresses_actresses_weak_weak_script_script_movie_movie_canned\", \"actresses_weak_weak_script_script_movie_movie_canned_canned_screening\", \"weak_script_script_movie_movie_canned_canned_screening_screening_lee\", \"script_movie_movie_canned_canned_screening_screening_lee_lee_grant\", \"movie_canned_canned_screening_screening_lee_lee_grant_grant_fun\", \"canned_screening_screening_lee_lee_grant_grant_fun_fun_watch\", \"screening_lee_lee_grant_grant_fun_fun_watch_watch_psychotic\", \"lee_grant_grant_fun_fun_watch_watch_psychotic_psychotic_person\", \"grant_fun_fun_watch_watch_psychotic_psychotic_person_person_decked\"], 2)                                                                                                                                                                                                                                                                                                  \n",
       " review([\"movie\", \"enemies\", \"content\", \"watch\", \"time\", \"bloody\", \"true\", \"watch\", \"bad\", \"mobsters\"  …  \"disaster_movies_movies_watch_watch_movie_movie_instead_instead_airport\", \"movies_watch_watch_movie_movie_instead_instead_airport_airport_original\", \"watch_movie_movie_instead_instead_airport_airport_original_original_instead\", \"movie_instead_instead_airport_airport_original_original_instead_instead_watch\", \"instead_airport_airport_original_original_instead_instead_watch_watch_decent\", \"airport_original_original_instead_instead_watch_watch_decent_decent_flick\", \"original_instead_instead_watch_watch_decent_decent_flick_flick_stuck\", \"instead_watch_watch_decent_decent_flick_flick_stuck_stuck_airplanes\", \"watch_decent_decent_flick_flick_stuck_stuck_airplanes_airplanes_flight\", \"decent_flick_flick_stuck_stuck_airplanes_airplanes_flight_flight_phoenix\"], 2)                                                                                                                                                                                                                                           \n",
       " review([\"descent\", \"night\", \"stockholm\", \"film\", \"festival\", \"huge\", \"disappointment\", \"disappointment\", \"storyline\", \"potentially\"  …  \"fire_walk_walk_crude_crude_red_red_blue_blue_lighting\", \"walk_crude_crude_red_red_blue_blue_lighting_lighting_heavy\", \"crude_red_red_blue_blue_lighting_lighting_heavy_heavy_bass\", \"red_blue_blue_lighting_lighting_heavy_heavy_bass_bass_music\", \"blue_lighting_lighting_heavy_heavy_bass_bass_music_music_lascivious\", \"lighting_heavy_heavy_bass_bass_music_music_lascivious_lascivious_decadent\", \"heavy_bass_bass_music_music_lascivious_lascivious_decadent_decadent_atmosphere\", \"bass_music_music_lascivious_lascivious_decadent_decadent_atmosphere_atmosphere_couldn\", \"music_lascivious_lascivious_decadent_decadent_atmosphere_atmosphere_couldn_couldn_movie\", \"lascivious_decadent_decadent_atmosphere_atmosphere_couldn_couldn_movie_movie_bad\"], 2)                                                                                                                                                                                                                                 \n",
       " review([\"films\", \"pick\", \"pound\", \"century\", \"films\", \"released\", \"dozens\", \"obscure\", \"italian\", \"american\"  …  \"trip_awful_awful_awful_awful_stuff_stuff_stuff_stuff_gotten\", \"awful_awful_awful_stuff_stuff_stuff_stuff_gotten_gotten_hold\", \"awful_stuff_stuff_stuff_stuff_gotten_gotten_hold_hold_camera\", \"stuff_stuff_stuff_gotten_gotten_hold_hold_camera_camera_common\", \"stuff_gotten_gotten_hold_hold_camera_camera_common_common_sense\", \"gotten_hold_hold_camera_camera_common_common_sense_sense_prevails\", \"hold_camera_camera_common_common_sense_sense_prevails_prevails_films\", \"camera_common_common_sense_sense_prevails_prevails_films_films_languish\", \"common_sense_sense_prevails_prevails_films_films_languish_languish_cupboards\", \"sense_prevails_prevails_films_films_languish_languish_cupboards_cupboards_avoid\"], 2)                                                                                                                                                                                                                                                                                           \n",
       " review([\"dumbest\", \"films\", \"seen\", \"rips\", \"nearly\", \"type\", \"thriller\", \"manages\", \"mess\", \"single\"  …  \"downloading_illegally_illegally_trailer_trailer_looks_looks_completely_completely_film\", \"illegally_trailer_trailer_looks_looks_completely_completely_film_film_download\", \"trailer_looks_looks_completely_completely_film_film_download_download_haven\", \"looks_completely_completely_film_film_download_download_haven_haven_wasted\", \"completely_film_film_download_download_haven_haven_wasted_wasted_time\", \"film_download_download_haven_haven_wasted_wasted_time_time_money\", \"download_haven_haven_wasted_wasted_time_time_money_money_don\", \"haven_wasted_wasted_time_time_money_money_don_don_waste\", \"wasted_time_time_money_money_don_don_waste_waste_time\", \"time_money_money_don_don_waste_waste_time_time_painful\"], 2)                                                                                                                                                                                                                                                                                             "
      ]
     },
     "execution_count": 133,
     "metadata": {},
     "output_type": "execute_result"
    }
   ],
   "source": [
    "function ngram(lst, n)\n",
    "    new_lst = copy(lst)\n",
    "    for i in 2:min(n,length(lst))\n",
    "        for j in i:length(lst)\n",
    "            push!(new_lst, join(lst[j-i+1:j], \"_\"))\n",
    "        end\n",
    "    end\n",
    "    return new_lst\n",
    "end\n",
    "#proccess the data"
   ]
  },
  {
   "cell_type": "markdown",
   "metadata": {},
   "source": [
    "# Training"
   ]
  },
  {
   "cell_type": "code",
   "execution_count": 134,
   "metadata": {},
   "outputs": [
    {
     "ename": "InterruptException",
     "evalue": "InterruptException:",
     "output_type": "error",
     "traceback": [
      "InterruptException:",
      "",
      "Stacktrace:",
      " [1] get!(::Dict{Any,Any}, ::Int64, ::String) at ./dict.jl:420",
      " [2] map_word(::Array{review,1}) at ./In[134]:20",
      " [3] top-level scope at In[134]:28"
     ]
    }
   ],
   "source": [
    "#define Naive Bayes model\n",
    "struct NaiveBayes2 class_prob; map_prob; end\n",
    "\n",
    "#map words into numbers and calcualte the frequency\n",
    "function map_word(dtrn)\n",
    "    w2n = Dict()\n",
    "    n2w = Dict()\n",
    "    t = 1\n",
    "    words_cnt = Dict()\n",
    "    for re in dtrn\n",
    "        lst = re.txt\n",
    "        lbl = re.label\n",
    "        for word in lst\n",
    "            if !haskey(words_cnt, word)\n",
    "                get!(w2n, word, t)\n",
    "                get!(n2w, t, word)\n",
    "                get!(words_cnt, word, fill(0, length(c2i)))\n",
    "            end\n",
    "            words_cnt[word][lbl] += 1\n",
    "        end\n",
    "    end\n",
    "    words_cnt, w2n ,n2w\n",
    "end\n",
    "nothing"
   ]
  },
  {
   "cell_type": "markdown",
   "metadata": {},
   "source": [
    "# Predict"
   ]
  },
  {
   "cell_type": "code",
   "execution_count": null,
   "metadata": {},
   "outputs": [],
   "source": [
    "#define predict function\n",
    "function predict(txt, nb, eps = 10)\n",
    "    prob = [log(nb.class_prob[c]) + sum([log(haskey(nb.map_prob, w) ? nb.map_prob[w][c]+eps : eps) for w in txt]) for c in 1:length(c2i)]\n",
    "    ind = argmax(prob)\n",
    "    #println(\"Model prediction is $(i2c[ind])\")\n",
    "    return ind\n",
    "end\n",
    "predict(txt::String, nb) = predict(txt)\n",
    "\n",
    "#define accuracy function\n",
    "function accuracy(dtst, nb)\n",
    "    return mean([re.label == predict(re.txt, nb) for re in dtst])\n",
    "end\n",
    "nothing"
   ]
  },
  {
   "cell_type": "markdown",
   "metadata": {},
   "source": [
    "# Benchmarks for different NGRAMS models"
   ]
  },
  {
   "cell_type": "code",
   "execution_count": null,
   "metadata": {},
   "outputs": [],
   "source": [
    "println(\"Downloading data..\")\n",
    "path = _download_reviews()\n",
    "println(\"Extracting data..\")\n",
    "c2i = Dict(\"Positive\" => 1, \"Negative\" => 2)\n",
    "i2c = Dict(1 => \"Positive\", 2 => \"Negative\")\n",
    "dtrn = [_extract_reviews(joinpath(path, \"train\", \"pos\"), 1); _extract_reviews(joinpath(path, \"train\", \"neg\"), 2)]\n",
    "dtst = [_extract_reviews(joinpath(path, \"test\", \"pos\"), 1); _extract_reviews(joinpath(path, \"test\", \"neg\"), 2)]\n",
    "println(\"Finsied extracting and cleaning $(length(dtrn)) training reviews and $(length(dtrn)) testing reviews\")\n",
    "for i in 1:6\n",
    "    println(\"modeling data in $i gram model\")\n",
    "    dtrn2 = [review(ngram(re.txt),re.label) for re in dtrn]\n",
    "    words_cnt, w2n ,n2w = map_word(dtrn)\n",
    "    #find class probability\n",
    "    c_p = [sum([re.label == c for re in dtrn]) for c in 1:length(c2i)]\n",
    "    println(\"Naive Bayes model with $i gram model prodcued accuracy of $(NaiveBayes(c_p, words_cnt))\")"
   ]
  }
 ],
 "metadata": {
  "kernelspec": {
   "display_name": "Julia 1.3.1",
   "language": "julia",
   "name": "julia-1.3"
  },
  "language_info": {
   "file_extension": ".jl",
   "mimetype": "application/julia",
   "name": "julia",
   "version": "1.3.1"
  }
 },
 "nbformat": 4,
 "nbformat_minor": 4
}
