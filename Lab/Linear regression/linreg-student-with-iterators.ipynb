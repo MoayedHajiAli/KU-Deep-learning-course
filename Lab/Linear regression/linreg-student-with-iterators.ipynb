{
 "cells": [
  {
   "cell_type": "markdown",
   "metadata": {},
   "source": [
    "# Linear Regression on Housing Data\n",
    "In the first lab assignment, you played with Boston Housing Dataset. In this lab assignment, you are going to implement a linear regression model trained on Boston Housing Data by using Knet for the first time. We will take advantage of iterators, callable objects and automatic differentation mechanism."
   ]
  },
  {
   "cell_type": "code",
   "execution_count": 149,
   "metadata": {},
   "outputs": [],
   "source": [
    "# Do not touch this cell\n",
    "# Necessary imports\n",
    "using Pkg; for p in (\"Knet\",\"AutoGrad\",\"Plots\",\"Images\",\"ImageMagick\"); haskey(Pkg.installed(),p) || Pkg.add(p); end\n",
    "using Knet\n",
    "using Statistics\n",
    "using Random\n",
    "using Test\n",
    "import Base: length, size, iterate, eltype, IteratorSize, IteratorEltype, haslength, @propagate_inbounds, repeat, rand, tail\n",
    "import .Iterators: cycle, Cycle, take\n",
    "using Plots; default(fmt=:png,ls=:auto)"
   ]
  },
  {
   "cell_type": "markdown",
   "metadata": {},
   "source": [
    "## Data Reading\n",
    "You do not need to worry about data reading and preprocessing: We are going to take advantage of housing data reader which is also a part of Knet. We include some source file and then use ```housing``` function. ```housing``` function takes one input argument: the percentage of the test set to split dataset into two parts. Just take a look at the cell below. In this lab session, we are going to use 20% of the data as test split."
   ]
  },
  {
   "cell_type": "code",
   "execution_count": 150,
   "metadata": {},
   "outputs": [
    {
     "data": {
      "text/plain": [
       "([-0.410442951130207 -0.11370556630644414 … -0.32875762699414984 -0.41501073511771897; -0.4872401872268264 -0.4872401872268264 … 0.37030254229238807 2.9429307308500317; … ; 0.37599013494349426 -0.06817504645565328 … 0.3000822506747866 0.4406158949991036; 0.18581785870133055 -0.0018293136231862705 … 0.299246373315404 -0.3379138013685896], [26.4 16.1 … 30.7 19.4], [-0.40098999831716037 -0.416566269598577 … -0.40370578945862845 -0.40547756415879854; 0.4560568152443095 -0.4872401872268264 … -0.4872401872268264 1.4422309541914062; … ; 0.19755731607809054 0.41772304101330315 … 0.4406158949991036 0.2866094227309898; -0.4387391476922107 -0.29310253633586913 … 0.44628333670401804 -1.1333137556993775], [24.5 18.5 … 20.3 29.8])"
      ]
     },
     "execution_count": 150,
     "metadata": {},
     "output_type": "execute_result"
    }
   ],
   "source": [
    "# Do not touch this cell\n",
    "# Load data\n",
    "include(joinpath(Knet.dir(), \"data\", \"housing.jl\"))\n",
    "Knet.seed!(1)\n",
    "xtrn, ytrn, xtst, ytst = housing(0.20; url=\"https://raw.githubusercontent.com/ilkerkesen/ufldl-tutorial/master/ex1/housing.data\")"
   ]
  },
  {
   "cell_type": "code",
   "execution_count": 151,
   "metadata": {},
   "outputs": [
    {
     "data": {
      "text/plain": [
       "((13, 405), (1, 405), (13, 101), (1, 101))"
      ]
     },
     "execution_count": 151,
     "metadata": {},
     "output_type": "execute_result"
    }
   ],
   "source": [
    "# Print size of data matrices for testing\n",
    "size(xtrn), size(ytrn), size(xtst), size(ytst)"
   ]
  },
  {
   "cell_type": "markdown",
   "metadata": {},
   "source": [
    "## Minibatching via Iterators\n",
    "In this part, you are going implement a minibatching procedure (or let's call it pipeline). Remember, you need to implement your own ```minibatch``` function, it's forbidden to use Knet's ```minibatch``` procedure. Also, your minibatching scheme must use iterators. Just take a look at [this blog post](https://julialang.org/blog/2018/07/iterators-in-julia-0.7). To implement your minibatching pipeline, we provide you ```HousingData``` struct definition. Different from the original implementation, you are not going to discard the last remaining smaller minibatch, you will use all the instances. Also, remember that, ```HousingData``` structure is not mutable which means you are not able to change the values inside struct."
   ]
  },
  {
   "cell_type": "code",
   "execution_count": 152,
   "metadata": {},
   "outputs": [],
   "source": [
    "# Do not touch this cell\n",
    "# HousingDataMinibatch struct definition\n",
    "# As default, this struct definition also creates the following constructor,\n",
    "#   HousingDataMinibatch(x, y, batchsize, shuffle, ninstances)\n",
    "# where x is input data, y is output data, batchsize is number of samples in\n",
    "# a minibatch, shuffle is a boolean property which indicates shuffling\n",
    "# instances or not, ninstances is number of instances in the whole data split.\n",
    "# This constructor returns a HousingDataMinibatch object.\n",
    "struct HousingDataMinibatch\n",
    "    x\n",
    "    y\n",
    "    batchsize\n",
    "    shuffle # shuffle data in each epoch or not\n",
    "    ninstances # number of instances\n",
    "end"
   ]
  },
  {
   "cell_type": "code",
   "execution_count": 153,
   "metadata": {},
   "outputs": [
    {
     "data": {
      "text/plain": [
       "HousingDataMinibatch"
      ]
     },
     "execution_count": 153,
     "metadata": {},
     "output_type": "execute_result"
    }
   ],
   "source": [
    "# HousingDataMinibatch(x, y; batchsize=100, dtype=Array{Float64}, shuffle=false)\n",
    "#\n",
    "# Creates a HousingDataMinibatch object. It takes two positional arguments, x\n",
    "# and y, input and output data for the data split. It also take three optional\n",
    "# keyword arguments: batchsize (number of instances in a minibatch), dtype\n",
    "# (data type for minibatch arrays) and shuffle (if true, shuffle instances).\n",
    "function HousingDataMinibatch(x, y; batchsize=100, dtype=Array{Float64}, shuffle=false)\n",
    "    ninstances = size(x)[end]\n",
    "    data = HousingDataMinibatch(convert(dtype, x), convert(dtype, y), batchsize, shuffle, ninstances)\n",
    "    return data\n",
    "end"
   ]
  },
  {
   "cell_type": "markdown",
   "metadata": {},
   "source": [
    "## Tests for ```HousingDataMinibatch(x, y; ...)```"
   ]
  },
  {
   "cell_type": "code",
   "execution_count": 154,
   "metadata": {},
   "outputs": [
    {
     "name": "stderr",
     "output_type": "stream",
     "text": [
      "┌ Info: constructor tests passed\n",
      "└ @ Main In[154]:11\n"
     ]
    }
   ],
   "source": [
    "x1 = randn(5, 100); y1 = rand(1, 100)\n",
    "obj1 = HousingDataMinibatch(\n",
    "    x1, y1; batchsize=20, dtype=Array{Float32}, shuffle=true)\n",
    "@test obj1.shuffle == true\n",
    "@test typeof(obj1.x) <: Array{Float32}\n",
    "@test typeof(obj1.y) <: Array{Float32}\n",
    "@test obj1.batchsize == 20\n",
    "@test obj1.ninstances == 100\n",
    "@test abs2(sum(obj1.x - x1)) < 1e-6\n",
    "@test abs2(sum(obj1.y - y1)) < 1e-6\n",
    "@info \"constructor tests passed\""
   ]
  },
  {
   "cell_type": "code",
   "execution_count": 155,
   "metadata": {},
   "outputs": [
    {
     "data": {
      "text/latex": [
       "\\begin{verbatim}\n",
       "divrem(x, y)\n",
       "\\end{verbatim}\n",
       "The quotient and remainder from Euclidean division. Equivalent to \\texttt{(div(x,y), rem(x,y))} or \\texttt{(x÷y, x\\%y)}.\n",
       "\n",
       "\\section{Examples}\n",
       "\\begin{verbatim}\n",
       "julia> divrem(3,7)\n",
       "(0, 3)\n",
       "\n",
       "julia> divrem(7,3)\n",
       "(2, 1)\n",
       "\\end{verbatim}\n"
      ],
      "text/markdown": [
       "```\n",
       "divrem(x, y)\n",
       "```\n",
       "\n",
       "The quotient and remainder from Euclidean division. Equivalent to `(div(x,y), rem(x,y))` or `(x÷y, x%y)`.\n",
       "\n",
       "# Examples\n",
       "\n",
       "```jldoctest\n",
       "julia> divrem(3,7)\n",
       "(0, 3)\n",
       "\n",
       "julia> divrem(7,3)\n",
       "(2, 1)\n",
       "```\n"
      ],
      "text/plain": [
       "\u001b[36m  divrem(x, y)\u001b[39m\n",
       "\n",
       "  The quotient and remainder from Euclidean division. Equivalent to \u001b[36m(div(x,y),\n",
       "  rem(x,y))\u001b[39m or \u001b[36m(x÷y, x%y)\u001b[39m.\n",
       "\n",
       "\u001b[1m  Examples\u001b[22m\n",
       "\u001b[1m  ≡≡≡≡≡≡≡≡≡≡\u001b[22m\n",
       "\n",
       "\u001b[36m  julia> divrem(3,7)\u001b[39m\n",
       "\u001b[36m  (0, 3)\u001b[39m\n",
       "\u001b[36m  \u001b[39m\n",
       "\u001b[36m  julia> divrem(7,3)\u001b[39m\n",
       "\u001b[36m  (2, 1)\u001b[39m"
      ]
     },
     "execution_count": 155,
     "metadata": {},
     "output_type": "execute_result"
    }
   ],
   "source": [
    "@doc divrem"
   ]
  },
  {
   "cell_type": "code",
   "execution_count": 156,
   "metadata": {},
   "outputs": [
    {
     "data": {
      "text/plain": [
       "length (generic function with 158 methods)"
      ]
     },
     "execution_count": 156,
     "metadata": {},
     "output_type": "execute_result"
    }
   ],
   "source": [
    "# length(d)\n",
    "# Returns how many batches the dataset (d) has.\n",
    "# Hint: You can use divrem function. Type ?divrem to see how to use.\n",
    "function length(d::HousingDataMinibatch)\n",
    "    d, r = divrem(d.ninstances, d.batchsize)\n",
    "    return r == 0 ? d : d+1\n",
    "end"
   ]
  },
  {
   "cell_type": "markdown",
   "metadata": {},
   "source": [
    "## Tests for ```length(d::HousingDataMinibatch)```"
   ]
  },
  {
   "cell_type": "code",
   "execution_count": 157,
   "metadata": {},
   "outputs": [
    {
     "name": "stderr",
     "output_type": "stream",
     "text": [
      "┌ Info: length tests passed\n",
      "└ @ Main In[157]:5\n"
     ]
    }
   ],
   "source": [
    "x1 = randn(5, 100); y1 = rand(1, 100)\n",
    "test_helper1(batchsize) = HousingDataMinibatch(x1,y1; batchsize=batchsize)\n",
    "objects = [test_helper1(batchsize) for batchsize in (20, 30, 50, 100, 101)]\n",
    "@test map(length, objects) == [5, 4, 2, 1, 1]\n",
    "@info \"length tests passed\""
   ]
  },
  {
   "cell_type": "code",
   "execution_count": 158,
   "metadata": {},
   "outputs": [
    {
     "data": {
      "text/plain": [
       "iterate (generic function with 296 methods)"
      ]
     },
     "execution_count": 158,
     "metadata": {},
     "output_type": "execute_result"
    }
   ],
   "source": [
    "# iterate(d, state)\n",
    "# Takes a HousingDataMinibatch object as d and list of integers as state.\n",
    "# Returns one minibatch.\n",
    "# This is how you implement your own iterator!\n",
    "function iterate(d::HousingDataMinibatch,\n",
    "                 state=ifelse(d.shuffle, randperm(d.ninstances), collect(1:d.ninstances)))\n",
    "    n = length(state)\n",
    "    n == 0 && return nothing\n",
    "    batchsize = min(d.batchsize, n)\n",
    "    indices, new_state = state[1:batchsize], state[batchsize+1:end]\n",
    "    x, y = d.x[:, indices], d.y[:, indices]\n",
    "    return ((x,y), new_state)\n",
    "end"
   ]
  },
  {
   "cell_type": "code",
   "execution_count": 159,
   "metadata": {},
   "outputs": [
    {
     "data": {
      "text/plain": [
       "HousingDataMinibatch([-0.40098999831716037 -0.416566269598577 … -0.40370578945862845 -0.40547756415879854; 0.4560568152443095 -0.4872401872268264 … -0.4872401872268264 1.4422309541914062; … ; 0.19755731607809054 0.41772304101330315 … 0.4406158949991036 0.2866094227309898; -0.4387391476922107 -0.29310253633586913 … 0.44628333670401804 -1.1333137556993775], [24.5 18.5 … 20.3 29.8], 100, false, 101)"
      ]
     },
     "execution_count": 159,
     "metadata": {},
     "output_type": "execute_result"
    }
   ],
   "source": [
    "dtrn = HousingDataMinibatch(xtrn, ytrn; shuffle=true)\n",
    "dtst = HousingDataMinibatch(xtst, ytst)"
   ]
  },
  {
   "cell_type": "markdown",
   "metadata": {},
   "source": [
    "## Tests for ```iterate``` function"
   ]
  },
  {
   "cell_type": "code",
   "execution_count": 160,
   "metadata": {},
   "outputs": [
    {
     "name": "stderr",
     "output_type": "stream",
     "text": [
      "┌ Info: iterate tests passed\n",
      "└ @ Main In[160]:9\n"
     ]
    }
   ],
   "source": [
    "x1 = randn(5, 100); y1 = rand(1, 100)\n",
    "test_helper2(batchsize) = HousingDataMinibatch(x1,y1; batchsize=batchsize)\n",
    "test_helper3(batches) = mapreduce(bi->size(bi[2],2), +, batches)\n",
    "objects = [test_helper1(batchsize) for batchsize in (20, 30, 50, 100, 101)]\n",
    "data_arrays = map(collect, objects)\n",
    "num_instances = map(test_helper3, data_arrays)\n",
    "@test map(length, data_arrays) == map(length, objects)\n",
    "@test prod(num_instances .== 100) == 1\n",
    "@info \"iterate tests passed\""
   ]
  },
  {
   "cell_type": "markdown",
   "metadata": {},
   "source": [
    "## Model Implementation via Callable Objects\n",
    "Next, we are going to implement our model via callable objects. In Julia, we can call objects. Just give a glimpse at the following code snippet:"
   ]
  },
  {
   "cell_type": "code",
   "execution_count": 161,
   "metadata": {},
   "outputs": [
    {
     "name": "stdout",
     "output_type": "stream",
     "text": [
      "Hello, World!\n",
      "Hello, Jupiter!\n"
     ]
    }
   ],
   "source": [
    "struct Hello\n",
    "    planet\n",
    "    Hello(planet=\"World\") = new(planet)\n",
    "end\n",
    "\n",
    "(obj::Hello)() = println(\"Hello, $(obj.planet)!\")\n",
    "\n",
    "hello_world = Hello()\n",
    "hello_world()\n",
    "\n",
    "hello_jupiter = Hello(\"Jupiter\")\n",
    "hello_jupiter()"
   ]
  },
  {
   "cell_type": "code",
   "execution_count": 162,
   "metadata": {
    "scrolled": true
   },
   "outputs": [
    {
     "data": {
      "text/latex": [
       "\\begin{verbatim}\n",
       "rand([rng=GLOBAL_RNG], [S], [dims...])\n",
       "\\end{verbatim}\n",
       "Pick a random element or array of random elements from the set of values specified by \\texttt{S}; \\texttt{S} can be\n",
       "\n",
       "\\begin{itemize}\n",
       "\\item an indexable collection (for example \\texttt{1:9} or \\texttt{('x', \"y\", :z)}),\n",
       "\n",
       "\n",
       "\\item an \\texttt{AbstractDict} or \\texttt{AbstractSet} object,\n",
       "\n",
       "\n",
       "\\item a string (considered as a collection of characters), or\n",
       "\n",
       "\n",
       "\\item a type: the set of values to pick from is then equivalent to \\texttt{typemin(S):typemax(S)} for integers (this is not applicable to \\href{@ref}{\\texttt{BigInt}}), to $[0, 1)$ for floating point numbers and to $[0, 1)+i[0, 1)]$ for complex floating point numbers;\n",
       "\n",
       "\\end{itemize}\n",
       "\\texttt{S} defaults to \\href{@ref}{\\texttt{Float64}}.\n",
       "\n",
       "\\begin{quote}\n",
       "\\textbf{compat}\n",
       "\n",
       "Julia 1.1\n",
       "\n",
       "Support for \\texttt{S} as a tuple requires at least Julia 1.1.\n",
       "\n",
       "\\end{quote}\n",
       "\\section{Examples}\n",
       "\\begin{verbatim}\n",
       "julia> rand(Int, 2)\n",
       "2-element Array{Int64,1}:\n",
       " 1339893410598768192\n",
       " 1575814717733606317\n",
       "\n",
       "julia> using Random\n",
       "\n",
       "julia> rand(MersenneTwister(0), Dict(1=>2, 3=>4))\n",
       "1=>2\n",
       "\\end{verbatim}\n",
       "\\begin{quote}\n",
       "\\textbf{note}\n",
       "\n",
       "Note\n",
       "\n",
       "The complexity of \\texttt{rand(rng, s::Union\\{AbstractDict,AbstractSet\\})} is linear in the length of \\texttt{s}, unless an optimized method with constant complexity is available, which is the case for \\texttt{Dict}, \\texttt{Set} and \\texttt{BitSet}. For more than a few calls, use \\texttt{rand(rng, collect(s))} instead, or either \\texttt{rand(rng, Dict(s))} or \\texttt{rand(rng, Set(s))} as appropriate.\n",
       "\n",
       "\\end{quote}\n"
      ],
      "text/markdown": [
       "```\n",
       "rand([rng=GLOBAL_RNG], [S], [dims...])\n",
       "```\n",
       "\n",
       "Pick a random element or array of random elements from the set of values specified by `S`; `S` can be\n",
       "\n",
       "  * an indexable collection (for example `1:9` or `('x', \"y\", :z)`),\n",
       "  * an `AbstractDict` or `AbstractSet` object,\n",
       "  * a string (considered as a collection of characters), or\n",
       "  * a type: the set of values to pick from is then equivalent to `typemin(S):typemax(S)` for integers (this is not applicable to [`BigInt`](@ref)), to $[0, 1)$ for floating point numbers and to $[0, 1)+i[0, 1)]$ for complex floating point numbers;\n",
       "\n",
       "`S` defaults to [`Float64`](@ref).\n",
       "\n",
       "!!! compat \"Julia 1.1\"\n",
       "    Support for `S` as a tuple requires at least Julia 1.1.\n",
       "\n",
       "\n",
       "# Examples\n",
       "\n",
       "```julia-repl\n",
       "julia> rand(Int, 2)\n",
       "2-element Array{Int64,1}:\n",
       " 1339893410598768192\n",
       " 1575814717733606317\n",
       "\n",
       "julia> using Random\n",
       "\n",
       "julia> rand(MersenneTwister(0), Dict(1=>2, 3=>4))\n",
       "1=>2\n",
       "```\n",
       "\n",
       "!!! note\n",
       "    The complexity of `rand(rng, s::Union{AbstractDict,AbstractSet})` is linear in the length of `s`, unless an optimized method with constant complexity is available, which is the case for `Dict`, `Set` and `BitSet`. For more than a few calls, use `rand(rng, collect(s))` instead, or either `rand(rng, Dict(s))` or `rand(rng, Set(s))` as appropriate.\n",
       "\n"
      ],
      "text/plain": [
       "\u001b[36m  rand([rng=GLOBAL_RNG], [S], [dims...])\u001b[39m\n",
       "\n",
       "  Pick a random element or array of random elements from the set of values\n",
       "  specified by \u001b[36mS\u001b[39m; \u001b[36mS\u001b[39m can be\n",
       "\n",
       "    •    an indexable collection (for example \u001b[36m1:9\u001b[39m or \u001b[36m('x', \"y\", :z)\u001b[39m),\n",
       "\n",
       "    •    an \u001b[36mAbstractDict\u001b[39m or \u001b[36mAbstractSet\u001b[39m object,\n",
       "\n",
       "    •    a string (considered as a collection of characters), or\n",
       "\n",
       "    •    a type: the set of values to pick from is then equivalent to\n",
       "        \u001b[36mtypemin(S):typemax(S)\u001b[39m for integers (this is not applicable to\n",
       "        \u001b[36mBigInt\u001b[39m), to \u001b[35m[0, 1)\u001b[39m for floating point numbers and to \u001b[35m[0, 1)+i[0,\n",
       "        1)]\u001b[39m for complex floating point numbers;\n",
       "\n",
       "  \u001b[36mS\u001b[39m defaults to \u001b[36mFloat64\u001b[39m.\n",
       "\n",
       "\u001b[39m\u001b[1m  │ \u001b[22m\u001b[39m\u001b[1mJulia 1.1\u001b[22m\n",
       "\u001b[39m\u001b[1m  │\u001b[22m\n",
       "\u001b[39m\u001b[1m  │\u001b[22m  Support for \u001b[36mS\u001b[39m as a tuple requires at least Julia 1.1.\n",
       "\n",
       "\u001b[1m  Examples\u001b[22m\n",
       "\u001b[1m  ≡≡≡≡≡≡≡≡≡≡\u001b[22m\n",
       "\n",
       "\u001b[36m  julia> rand(Int, 2)\u001b[39m\n",
       "\u001b[36m  2-element Array{Int64,1}:\u001b[39m\n",
       "\u001b[36m   1339893410598768192\u001b[39m\n",
       "\u001b[36m   1575814717733606317\u001b[39m\n",
       "\u001b[36m  \u001b[39m\n",
       "\u001b[36m  julia> using Random\u001b[39m\n",
       "\u001b[36m  \u001b[39m\n",
       "\u001b[36m  julia> rand(MersenneTwister(0), Dict(1=>2, 3=>4))\u001b[39m\n",
       "\u001b[36m  1=>2\u001b[39m\n",
       "\n",
       "\u001b[36m\u001b[1m  │ \u001b[22m\u001b[39m\u001b[36m\u001b[1mNote\u001b[22m\u001b[39m\n",
       "\u001b[36m\u001b[1m  │\u001b[22m\u001b[39m\n",
       "\u001b[36m\u001b[1m  │\u001b[22m\u001b[39m  The complexity of \u001b[36mrand(rng, s::Union{AbstractDict,AbstractSet})\u001b[39m is\n",
       "\u001b[36m\u001b[1m  │\u001b[22m\u001b[39m  linear in the length of \u001b[36ms\u001b[39m, unless an optimized method with\n",
       "\u001b[36m\u001b[1m  │\u001b[22m\u001b[39m  constant complexity is available, which is the case for \u001b[36mDict\u001b[39m, \u001b[36mSet\u001b[39m\n",
       "\u001b[36m\u001b[1m  │\u001b[22m\u001b[39m  and \u001b[36mBitSet\u001b[39m. For more than a few calls, use \u001b[36mrand(rng, collect(s))\u001b[39m\n",
       "\u001b[36m\u001b[1m  │\u001b[22m\u001b[39m  instead, or either \u001b[36mrand(rng, Dict(s))\u001b[39m or \u001b[36mrand(rng, Set(s))\u001b[39m as\n",
       "\u001b[36m\u001b[1m  │\u001b[22m\u001b[39m  appropriate."
      ]
     },
     "execution_count": 162,
     "metadata": {},
     "output_type": "execute_result"
    }
   ],
   "source": [
    "@doc rand"
   ]
  },
  {
   "cell_type": "markdown",
   "metadata": {},
   "source": [
    "For this assingment, you just need to define a linear layer and that's all! Write your solutions to the below cell. Hint: You need to use ```Param``` method of AutoGrad. Just type ```@doc Param``` to see the documentation."
   ]
  },
  {
   "cell_type": "code",
   "execution_count": 163,
   "metadata": {},
   "outputs": [
    {
     "data": {
      "text/plain": [
       "4×5 Array{Float32,2}:\n",
       " -1.24902    0.0894676   1.20127    0.503612  -1.2784  \n",
       " -0.371296   1.40913    -1.28896    1.50976   -0.856333\n",
       "  0.318245  -0.867614   -0.302427  -1.62469    0.362092\n",
       "  0.577106  -0.445326   -0.519902  -0.408412   0.349175"
      ]
     },
     "execution_count": 163,
     "metadata": {},
     "output_type": "execute_result"
    }
   ],
   "source": [
    "w = randn(4,5)\n",
    "w = Array{Float32}(w)"
   ]
  },
  {
   "cell_type": "code",
   "execution_count": 164,
   "metadata": {},
   "outputs": [
    {
     "data": {
      "text/plain": [
       "Linear(P(Array{Float64,2}(1,13)), P(Array{Float64,2}(1,1)))"
      ]
     },
     "execution_count": 164,
     "metadata": {},
     "output_type": "execute_result"
    }
   ],
   "source": [
    "struct Linear\n",
    "    w; b\n",
    "end\n",
    "\n",
    "function (l::Linear)(x)\n",
    "    return l.w*x .+ l.b\n",
    "end\n",
    "\n",
    "function Linear(xsize::Int, ysize::Int, atype=Array{Float64}, scale=0.1)\n",
    "    return Linear(Param(atype(scale * randn(ysize, xsize))), Param(atype(fill(0,(ysize, 1)))));\n",
    "end\n",
    "\n",
    "model = Linear(13, 1)"
   ]
  },
  {
   "cell_type": "markdown",
   "metadata": {},
   "source": [
    "## Tests for ```Linear```"
   ]
  },
  {
   "cell_type": "code",
   "execution_count": 165,
   "metadata": {},
   "outputs": [
    {
     "name": "stderr",
     "output_type": "stream",
     "text": [
      "┌ Info: Linear tests passed\n",
      "└ @ Main In[165]:10\n"
     ]
    }
   ],
   "source": [
    "test_model = Linear(5,3)\n",
    "test_data = rand(5,10)\n",
    "@test fieldnames(Linear) == (:w, :b)\n",
    "@test typeof(test_model.w) <: Param\n",
    "@test typeof(test_model.b) <: Param\n",
    "@test size(test_model.w) == (3,5)\n",
    "@test size(test_model.b) == (3,1)\n",
    "@test sum(test_model.b.value) ≈ 0.0\n",
    "@test size(test_model(test_data)) == (3,10)\n",
    "@info \"Linear tests passed\""
   ]
  },
  {
   "cell_type": "markdown",
   "metadata": {},
   "source": [
    "## Define Loss Function\n",
    "In this part, we'll define our loss function. We are going to use minimum squared error loss function,"
   ]
  },
  {
   "cell_type": "markdown",
   "metadata": {},
   "source": [
    "![MSE](http://web.itu.edu.tr/keseni/mse.png)"
   ]
  },
  {
   "cell_type": "markdown",
   "metadata": {},
   "source": [
    "We're going to define three diffent functions for this purpose,"
   ]
  },
  {
   "cell_type": "markdown",
   "metadata": {},
   "source": [
    "1. A function takes predictions and gold values as input.\n",
    "2. A callable object procedure that takes input/output pair as input\n",
    "3. A callable object procedure that takes our dataset object as input"
   ]
  },
  {
   "cell_type": "markdown",
   "metadata": {},
   "source": [
    "See function prototypes below and the documentation of ```train!``` function."
   ]
  },
  {
   "cell_type": "markdown",
   "metadata": {},
   "source": [
    "1 - takes predictions and gold values as input."
   ]
  },
  {
   "cell_type": "code",
   "execution_count": 166,
   "metadata": {},
   "outputs": [
    {
     "data": {
      "text/plain": [
       "mse (generic function with 1 method)"
      ]
     },
     "execution_count": 166,
     "metadata": {},
     "output_type": "execute_result"
    }
   ],
   "source": [
    "function mse(ypred, ygold)\n",
    "    return sum(abs2.(ypred - ygold))/(2 * size(ygold, 2))\n",
    "end"
   ]
  },
  {
   "cell_type": "markdown",
   "metadata": {},
   "source": [
    "2 - callable object procedure that takes input/output pair as input"
   ]
  },
  {
   "cell_type": "code",
   "execution_count": 167,
   "metadata": {},
   "outputs": [],
   "source": [
    "function (m::Linear)(x, y)\n",
    "    mse(m(x), y)\n",
    "end"
   ]
  },
  {
   "cell_type": "markdown",
   "metadata": {},
   "source": [
    "3 - callable object procedure that takes our dataset object as input"
   ]
  },
  {
   "cell_type": "code",
   "execution_count": 168,
   "metadata": {},
   "outputs": [],
   "source": [
    "function (m::Linear)(data::HousingDataMinibatch)\n",
    "    error = 0\n",
    "    cnt = 0\n",
    "    for (x,y) in data\n",
    "        error += m(x,y)\n",
    "        cnt += 1\n",
    "    end\n",
    "    return error/cnt\n",
    "end"
   ]
  },
  {
   "cell_type": "markdown",
   "metadata": {},
   "source": [
    "## Tests for ```mse```"
   ]
  },
  {
   "cell_type": "code",
   "execution_count": 169,
   "metadata": {},
   "outputs": [
    {
     "name": "stderr",
     "output_type": "stream",
     "text": [
      "┌ Info: mse tests passed\n",
      "└ @ Main In[169]:9\n"
     ]
    }
   ],
   "source": [
    "x1 = randn(5, 100); y1 = rand(1, 100); batchsize = 20\n",
    "test_data = HousingDataMinibatch(x1,y1; batchsize=batchsize, shuffle=false)\n",
    "test_model = Linear(5, 1)\n",
    "batch = take(test_data,1)\n",
    "w1, b1 = test_model.w.value, test_model.b.value\n",
    "y2 = w1 * x1 .+ b1\n",
    "@test mse(y2,y1) ≈ 0.5mean(abs2.(y1 - y2))\n",
    "@test test_model(test_data) ≈ mse(y2,y1)\n",
    "@info \"mse tests passed\""
   ]
  },
  {
   "cell_type": "markdown",
   "metadata": {},
   "source": [
    "## Training with Modular Interface and Iterators\n",
    "Now, let's implement a ```mytrain!``` procedure to train our network! It takes model, train data, test data, report period (in iterations) and number of maximum iterations. It trains our model until a certain maximum iterations number, records loss values of train and test data splits after each report period. It should output three lists: iterations numbers, loss values of train set, loss values of test set."
   ]
  },
  {
   "cell_type": "markdown",
   "metadata": {},
   "source": [
    "Hint: You will need ```sgd!```, ```cycle``` and ```take``` procedures."
   ]
  },
  {
   "cell_type": "code",
   "execution_count": 170,
   "metadata": {},
   "outputs": [
    {
     "data": {
      "text/latex": [
       "\\begin{verbatim}\n",
       "cycle(iter)\n",
       "\\end{verbatim}\n",
       "An iterator that cycles through \\texttt{iter} forever. If \\texttt{iter} is empty, so is \\texttt{cycle(iter)}.\n",
       "\n",
       "\\section{Examples}\n",
       "\\begin{verbatim}\n",
       "julia> for (i, v) in enumerate(Iterators.cycle(\"hello\"))\n",
       "           print(v)\n",
       "           i > 10 && break\n",
       "       end\n",
       "hellohelloh\n",
       "\\end{verbatim}\n"
      ],
      "text/markdown": [
       "```\n",
       "cycle(iter)\n",
       "```\n",
       "\n",
       "An iterator that cycles through `iter` forever. If `iter` is empty, so is `cycle(iter)`.\n",
       "\n",
       "# Examples\n",
       "\n",
       "```jldoctest\n",
       "julia> for (i, v) in enumerate(Iterators.cycle(\"hello\"))\n",
       "           print(v)\n",
       "           i > 10 && break\n",
       "       end\n",
       "hellohelloh\n",
       "```\n"
      ],
      "text/plain": [
       "\u001b[36m  cycle(iter)\u001b[39m\n",
       "\n",
       "  An iterator that cycles through \u001b[36miter\u001b[39m forever. If \u001b[36miter\u001b[39m is empty, so is\n",
       "  \u001b[36mcycle(iter)\u001b[39m.\n",
       "\n",
       "\u001b[1m  Examples\u001b[22m\n",
       "\u001b[1m  ≡≡≡≡≡≡≡≡≡≡\u001b[22m\n",
       "\n",
       "\u001b[36m  julia> for (i, v) in enumerate(Iterators.cycle(\"hello\"))\u001b[39m\n",
       "\u001b[36m             print(v)\u001b[39m\n",
       "\u001b[36m             i > 10 && break\u001b[39m\n",
       "\u001b[36m         end\u001b[39m\n",
       "\u001b[36m  hellohelloh\u001b[39m"
      ]
     },
     "execution_count": 170,
     "metadata": {},
     "output_type": "execute_result"
    }
   ],
   "source": [
    "@doc cycle"
   ]
  },
  {
   "cell_type": "code",
   "execution_count": 171,
   "metadata": {},
   "outputs": [
    {
     "data": {
      "text/latex": [
       "\\begin{verbatim}\n",
       "take(iter, n)\n",
       "\\end{verbatim}\n",
       "An iterator that generates at most the first \\texttt{n} elements of \\texttt{iter}.\n",
       "\n",
       "\\section{Examples}\n",
       "\\begin{verbatim}\n",
       "julia> a = 1:2:11\n",
       "1:2:11\n",
       "\n",
       "julia> collect(a)\n",
       "6-element Array{Int64,1}:\n",
       "  1\n",
       "  3\n",
       "  5\n",
       "  7\n",
       "  9\n",
       " 11\n",
       "\n",
       "julia> collect(Iterators.take(a,3))\n",
       "3-element Array{Int64,1}:\n",
       " 1\n",
       " 3\n",
       " 5\n",
       "\\end{verbatim}\n"
      ],
      "text/markdown": [
       "```\n",
       "take(iter, n)\n",
       "```\n",
       "\n",
       "An iterator that generates at most the first `n` elements of `iter`.\n",
       "\n",
       "# Examples\n",
       "\n",
       "```jldoctest\n",
       "julia> a = 1:2:11\n",
       "1:2:11\n",
       "\n",
       "julia> collect(a)\n",
       "6-element Array{Int64,1}:\n",
       "  1\n",
       "  3\n",
       "  5\n",
       "  7\n",
       "  9\n",
       " 11\n",
       "\n",
       "julia> collect(Iterators.take(a,3))\n",
       "3-element Array{Int64,1}:\n",
       " 1\n",
       " 3\n",
       " 5\n",
       "```\n"
      ],
      "text/plain": [
       "\u001b[36m  take(iter, n)\u001b[39m\n",
       "\n",
       "  An iterator that generates at most the first \u001b[36mn\u001b[39m elements of \u001b[36miter\u001b[39m.\n",
       "\n",
       "\u001b[1m  Examples\u001b[22m\n",
       "\u001b[1m  ≡≡≡≡≡≡≡≡≡≡\u001b[22m\n",
       "\n",
       "\u001b[36m  julia> a = 1:2:11\u001b[39m\n",
       "\u001b[36m  1:2:11\u001b[39m\n",
       "\u001b[36m  \u001b[39m\n",
       "\u001b[36m  julia> collect(a)\u001b[39m\n",
       "\u001b[36m  6-element Array{Int64,1}:\u001b[39m\n",
       "\u001b[36m    1\u001b[39m\n",
       "\u001b[36m    3\u001b[39m\n",
       "\u001b[36m    5\u001b[39m\n",
       "\u001b[36m    7\u001b[39m\n",
       "\u001b[36m    9\u001b[39m\n",
       "\u001b[36m   11\u001b[39m\n",
       "\u001b[36m  \u001b[39m\n",
       "\u001b[36m  julia> collect(Iterators.take(a,3))\u001b[39m\n",
       "\u001b[36m  3-element Array{Int64,1}:\u001b[39m\n",
       "\u001b[36m   1\u001b[39m\n",
       "\u001b[36m   3\u001b[39m\n",
       "\u001b[36m   5\u001b[39m"
      ]
     },
     "execution_count": 171,
     "metadata": {},
     "output_type": "execute_result"
    }
   ],
   "source": [
    "@doc take"
   ]
  },
  {
   "cell_type": "code",
   "execution_count": 195,
   "metadata": {},
   "outputs": [
    {
     "data": {
      "text/latex": [
       "\\begin{verbatim}\n",
       "progress(msg, itr; steps, seconds, io)\n",
       "progress(itr; o...) do p; [body of the msg function]; end\n",
       "progress(itr; o...)\n",
       "progress!(...)\n",
       "\\end{verbatim}\n",
       "Return a \\texttt{Progress} iterator which acts exactly like \\texttt{itr}, but prints a progressbar:\n",
       "\n",
       "\\begin{verbatim}\n",
       "┣█████████████████▎  ┫ [86.83%, 903/1040, 01:36/01:50, 9.42i/s] 3.87835\n",
       "\\end{verbatim}\n",
       "Here \\texttt{86.83\\%} is the percentage completed, \\texttt{903} is the number of iterations completed, \\texttt{1040} is the total number of iterations. \\texttt{01:36} is elapsed time, \\texttt{01:50} is the estimated total time, \\texttt{9.42i/s} is the average number of iterations completed per second. If the speed is less than 1, the average number of seconds per iteration (s/i) is reported instead.  The bar, percent, total iterations, and estimated total time are omitted for iterators whose size is unknown.\n",
       "\n",
       "The \\texttt{3.87835} at the end is the output of the \\texttt{msg} function applied to the Progress iterator. The message can be customized by the first two forms above, if not specified (the third form) nothing gets printed at the end of the line. The message function can use the following fields of its \\texttt{p::Progress} argument: \\texttt{p.currval} is the current iterator value and \\texttt{p.curriter} is the current iteration count.\n",
       "\n",
       "The progress bar is updated and \\texttt{msg} is called with the Progress iterator every \\texttt{steps} iterations or every \\texttt{seconds} seconds in addition to the first and the last iteration. If neither \\texttt{steps} nor \\texttt{seconds} is specified the default is to update every second. The keyword argument \\texttt{io} determines where the progress bar is printed, the default is \\texttt{stderr}.\n",
       "\n",
       "The last form, \\texttt{progress!(...)}, is equivalent to \\texttt{(for x in progress(...) end)}, i.e. iterates over the object created by \\texttt{progress(...)} and returns \\texttt{nothing}.\n",
       "\n"
      ],
      "text/markdown": [
       "```\n",
       "progress(msg, itr; steps, seconds, io)\n",
       "progress(itr; o...) do p; [body of the msg function]; end\n",
       "progress(itr; o...)\n",
       "progress!(...)\n",
       "```\n",
       "\n",
       "Return a `Progress` iterator which acts exactly like `itr`, but prints a progressbar:\n",
       "\n",
       "```\n",
       "┣█████████████████▎  ┫ [86.83%, 903/1040, 01:36/01:50, 9.42i/s] 3.87835\n",
       "```\n",
       "\n",
       "Here `86.83%` is the percentage completed, `903` is the number of iterations completed, `1040` is the total number of iterations. `01:36` is elapsed time, `01:50` is the estimated total time, `9.42i/s` is the average number of iterations completed per second. If the speed is less than 1, the average number of seconds per iteration (s/i) is reported instead.  The bar, percent, total iterations, and estimated total time are omitted for iterators whose size is unknown.\n",
       "\n",
       "The `3.87835` at the end is the output of the `msg` function applied to the Progress iterator. The message can be customized by the first two forms above, if not specified (the third form) nothing gets printed at the end of the line. The message function can use the following fields of its `p::Progress` argument: `p.currval` is the current iterator value and `p.curriter` is the current iteration count.\n",
       "\n",
       "The progress bar is updated and `msg` is called with the Progress iterator every `steps` iterations or every `seconds` seconds in addition to the first and the last iteration. If neither `steps` nor `seconds` is specified the default is to update every second. The keyword argument `io` determines where the progress bar is printed, the default is `stderr`.\n",
       "\n",
       "The last form, `progress!(...)`, is equivalent to `(for x in progress(...) end)`, i.e. iterates over the object created by `progress(...)` and returns `nothing`.\n"
      ],
      "text/plain": [
       "\u001b[36m  progress(msg, itr; steps, seconds, io)\u001b[39m\n",
       "\u001b[36m  progress(itr; o...) do p; [body of the msg function]; end\u001b[39m\n",
       "\u001b[36m  progress(itr; o...)\u001b[39m\n",
       "\u001b[36m  progress!(...)\u001b[39m\n",
       "\n",
       "  Return a \u001b[36mProgress\u001b[39m iterator which acts exactly like \u001b[36mitr\u001b[39m, but prints a\n",
       "  progressbar:\n",
       "\n",
       "\u001b[36m  ┣█████████████████▎  ┫ [86.83%, 903/1040, 01:36/01:50, 9.42i/s] 3.87835\u001b[39m\n",
       "\n",
       "  Here \u001b[36m86.83%\u001b[39m is the percentage completed, \u001b[36m903\u001b[39m is the number of iterations\n",
       "  completed, \u001b[36m1040\u001b[39m is the total number of iterations. \u001b[36m01:36\u001b[39m is elapsed time,\n",
       "  \u001b[36m01:50\u001b[39m is the estimated total time, \u001b[36m9.42i/s\u001b[39m is the average number of\n",
       "  iterations completed per second. If the speed is less than 1, the average\n",
       "  number of seconds per iteration (s/i) is reported instead. The bar, percent,\n",
       "  total iterations, and estimated total time are omitted for iterators whose\n",
       "  size is unknown.\n",
       "\n",
       "  The \u001b[36m3.87835\u001b[39m at the end is the output of the \u001b[36mmsg\u001b[39m function applied to the\n",
       "  Progress iterator. The message can be customized by the first two forms\n",
       "  above, if not specified (the third form) nothing gets printed at the end of\n",
       "  the line. The message function can use the following fields of its\n",
       "  \u001b[36mp::Progress\u001b[39m argument: \u001b[36mp.currval\u001b[39m is the current iterator value and \u001b[36mp.curriter\u001b[39m\n",
       "  is the current iteration count.\n",
       "\n",
       "  The progress bar is updated and \u001b[36mmsg\u001b[39m is called with the Progress iterator\n",
       "  every \u001b[36msteps\u001b[39m iterations or every \u001b[36mseconds\u001b[39m seconds in addition to the first and\n",
       "  the last iteration. If neither \u001b[36msteps\u001b[39m nor \u001b[36mseconds\u001b[39m is specified the default is\n",
       "  to update every second. The keyword argument \u001b[36mio\u001b[39m determines where the\n",
       "  progress bar is printed, the default is \u001b[36mstderr\u001b[39m.\n",
       "\n",
       "  The last form, \u001b[36mprogress!(...)\u001b[39m, is equivalent to \u001b[36m(for x in progress(...)\n",
       "  end)\u001b[39m, i.e. iterates over the object created by \u001b[36mprogress(...)\u001b[39m and returns\n",
       "  \u001b[36mnothing\u001b[39m."
      ]
     },
     "execution_count": 195,
     "metadata": {},
     "output_type": "execute_result"
    }
   ],
   "source": [
    "@doc progress!"
   ]
  },
  {
   "cell_type": "code",
   "execution_count": 206,
   "metadata": {},
   "outputs": [
    {
     "data": {
      "text/plain": [
       "mytrain! (generic function with 3 methods)"
      ]
     },
     "execution_count": 206,
     "metadata": {},
     "output_type": "execute_result"
    }
   ],
   "source": [
    "function mytrain!(m::Linear, dtrn, dtst, valid=10, max_iters=500)\n",
    "    trnloss = []; tstloss = []\n",
    "    push!(tstloss, m(dtst)); push!(trnloss, m(dtrn))\n",
    "    for (i, loss) in enumerate(sgd(m, take(cycle(dtrn), max_iters)))\n",
    "        if i % valid == 0\n",
    "            push!(tstloss, m(dtst)); push!(trnloss, m(dtrn))\n",
    "        end\n",
    "    end     \n",
    "    return 0:valid:max_iters, trnloss, tstloss\n",
    "end"
   ]
  },
  {
   "cell_type": "markdown",
   "metadata": {},
   "source": [
    "Finally, let's train our network and plot the results,"
   ]
  },
  {
   "cell_type": "code",
   "execution_count": 207,
   "metadata": {},
   "outputs": [
    {
     "name": "stdout",
     "output_type": "stream",
     "text": [
      "Finished training\n"
     ]
    },
    {
     "data": {
      "image/png": "[encoded data removed]"
     },
     "execution_count": 207,
     "metadata": {},
     "output_type": "execute_result"
    }
   ],
   "source": [
    "Knet.seed!(42)\n",
    "model = Linear(13, 1)\n",
    "dtrn = HousingDataMinibatch(xtrn, ytrn; shuffle=true)\n",
    "dtst = HousingDataMinibatch(xtst, ytst)\n",
    "iters, trnloss, tstloss = mytrain!(model, dtrn, dtst)\n",
    "println(\"Finished training\")\n",
    "plot(iters, [trnloss, tstloss], labels=[:trn, :tst], xlabel=\"iterations\", ylabel=\"loss\")"
   ]
  },
  {
   "cell_type": "markdown",
   "metadata": {},
   "source": [
    "---\n",
    "\n",
    "*This notebook was generated using [Literate.jl](https://github.com/fredrikekre/Literate.jl).*"
   ]
  },
  {
   "cell_type": "code",
   "execution_count": null,
   "metadata": {},
   "outputs": [],
   "source": []
  }
 ],
 "metadata": {
  "kernelspec": {
   "display_name": "Julia 1.3.1",
   "language": "julia",
   "name": "julia-1.3"
  },
  "language_info": {
   "file_extension": ".jl",
   "mimetype": "application/julia",
   "name": "julia",
   "version": "1.3.1"
  }
 },
 "nbformat": 4,
 "nbformat_minor": 3
}
